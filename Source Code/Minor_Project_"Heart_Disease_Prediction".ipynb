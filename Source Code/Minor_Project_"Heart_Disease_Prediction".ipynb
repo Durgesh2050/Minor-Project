{
  "nbformat": 4,
  "nbformat_minor": 0,
  "metadata": {
    "colab": {
      "name": "Minor Project - \"Heart Disease Prediction\".ipynb",
      "provenance": [],
      "collapsed_sections": [],
      "include_colab_link": true
    },
    "kernelspec": {
      "name": "python3",
      "display_name": "Python 3"
    },
    "language_info": {
      "name": "python"
    }
  },
  "cells": [
    {
      "cell_type": "markdown",
      "metadata": {
        "id": "view-in-github",
        "colab_type": "text"
      },
      "source": [
        "<a href=\"https://colab.research.google.com/github/Durgesh2050/Minor-Project/blob/main/Minor_Project_%22Heart_Disease_Prediction%22.ipynb\" target=\"_parent\"><img src=\"https://colab.research.google.com/assets/colab-badge.svg\" alt=\"Open In Colab\"/></a>"
      ]
    },
    {
      "cell_type": "markdown",
      "metadata": {
        "id": "-xhJ2Oofls7g"
      },
      "source": [
        "These are following features we are using to predict Heart Disease\n",
        "\n",
        "1. age (#)\n",
        "2. sex : 1= Male, 0= Female (Binary)\n",
        "3. (cp)chest pain type :Value 1: typical angina ,Value 2: atypical angina, Value 3: non-anginal pain , Value 4: asymptomatic\n",
        "4. (trestbps) resting blood pressure (#) normal range\n",
        "5. (chol) serum cholestoral in mg/dl  (#)\n",
        "6. (fbs)fasting blood sugar > 120 mg/dl(Binary)(1 = true; 0 = false)\n",
        "7. (restecg) resting electrocardiographic results(Value 0: normal, Value 1: having ST-T wave abnormality (T wave inversions and/or ST elevation or depression of > 0.05 mV) & Value 2: showing probable or definite left ventricular hypertrophy by Estes' criteria)\n",
        "8. (thalach) maximum heart rate achieved (#)\n",
        "9. (exang) exercise induced angina (binary) (1 = yes; 0 = no) \n",
        "10. (oldpeak) = ST depression induced by exercise relative to rest (#) \n",
        "11. (slope) of the peak exercise ST segment (Ordinal) (Value 1: upsloping , Value 2: flat , Value 3: downsloping )\n",
        "\n",
        "and in dataset target shows wheather a person having heart disease or not (negative=0, Positive=1)"
      ]
    },
    {
      "cell_type": "markdown",
      "metadata": {
        "id": "ofIqKvhtl7Vs"
      },
      "source": [
        "# **Importing necessary libraries**\n",
        "\n",
        "**numpy** for faster numerical calculation\n",
        "\n",
        "**Pandas** for data manupulation and analysis\n",
        "\n",
        "**matplotlib & seaborn** for Data Visualzation (i.e.plot different kinds of graph)\n"
      ]
    },
    {
      "cell_type": "code",
      "metadata": {
        "id": "Xib9mrPnlcyq"
      },
      "source": [
        "import numpy as np\n",
        "import pandas as pd\n",
        "import matplotlib as plt\n",
        "import seaborn as sns\n",
        "import matplotlib.pyplot as plt"
      ],
      "execution_count": 4,
      "outputs": []
    },
    {
      "cell_type": "markdown",
      "metadata": {
        "id": "HfuBjYDKmHPe"
      },
      "source": [
        "# **Data Cleaning**"
      ]
    },
    {
      "cell_type": "code",
      "metadata": {
        "colab": {
          "base_uri": "https://localhost:8080/",
          "height": 676
        },
        "id": "Rn5kKolXmaV4",
        "outputId": "d76d2496-b55b-4e10-e522-c88929e1a3ad"
      },
      "source": [
        "data = pd.read_csv(\"/content/heart_Disease_prediction.csv\")\n",
        "\n",
        "data.head(20)"
      ],
      "execution_count": 5,
      "outputs": [
        {
          "output_type": "execute_result",
          "data": {
            "text/html": [
              "<div>\n",
              "<style scoped>\n",
              "    .dataframe tbody tr th:only-of-type {\n",
              "        vertical-align: middle;\n",
              "    }\n",
              "\n",
              "    .dataframe tbody tr th {\n",
              "        vertical-align: top;\n",
              "    }\n",
              "\n",
              "    .dataframe thead th {\n",
              "        text-align: right;\n",
              "    }\n",
              "</style>\n",
              "<table border=\"1\" class=\"dataframe\">\n",
              "  <thead>\n",
              "    <tr style=\"text-align: right;\">\n",
              "      <th></th>\n",
              "      <th>age</th>\n",
              "      <th>sex</th>\n",
              "      <th>cp</th>\n",
              "      <th>trestbps</th>\n",
              "      <th>chol</th>\n",
              "      <th>fbs</th>\n",
              "      <th>restecg</th>\n",
              "      <th>thalach</th>\n",
              "      <th>exang</th>\n",
              "      <th>oldpeak</th>\n",
              "      <th>slope</th>\n",
              "      <th>target</th>\n",
              "    </tr>\n",
              "  </thead>\n",
              "  <tbody>\n",
              "    <tr>\n",
              "      <th>0</th>\n",
              "      <td>40</td>\n",
              "      <td>1</td>\n",
              "      <td>2</td>\n",
              "      <td>140</td>\n",
              "      <td>289</td>\n",
              "      <td>0</td>\n",
              "      <td>0</td>\n",
              "      <td>172</td>\n",
              "      <td>0</td>\n",
              "      <td>0.0</td>\n",
              "      <td>1</td>\n",
              "      <td>0</td>\n",
              "    </tr>\n",
              "    <tr>\n",
              "      <th>1</th>\n",
              "      <td>49</td>\n",
              "      <td>0</td>\n",
              "      <td>3</td>\n",
              "      <td>160</td>\n",
              "      <td>180</td>\n",
              "      <td>0</td>\n",
              "      <td>0</td>\n",
              "      <td>156</td>\n",
              "      <td>0</td>\n",
              "      <td>1.0</td>\n",
              "      <td>2</td>\n",
              "      <td>1</td>\n",
              "    </tr>\n",
              "    <tr>\n",
              "      <th>2</th>\n",
              "      <td>37</td>\n",
              "      <td>1</td>\n",
              "      <td>2</td>\n",
              "      <td>130</td>\n",
              "      <td>283</td>\n",
              "      <td>0</td>\n",
              "      <td>1</td>\n",
              "      <td>98</td>\n",
              "      <td>0</td>\n",
              "      <td>0.0</td>\n",
              "      <td>1</td>\n",
              "      <td>0</td>\n",
              "    </tr>\n",
              "    <tr>\n",
              "      <th>3</th>\n",
              "      <td>48</td>\n",
              "      <td>0</td>\n",
              "      <td>4</td>\n",
              "      <td>138</td>\n",
              "      <td>214</td>\n",
              "      <td>0</td>\n",
              "      <td>0</td>\n",
              "      <td>108</td>\n",
              "      <td>1</td>\n",
              "      <td>1.5</td>\n",
              "      <td>2</td>\n",
              "      <td>1</td>\n",
              "    </tr>\n",
              "    <tr>\n",
              "      <th>4</th>\n",
              "      <td>54</td>\n",
              "      <td>1</td>\n",
              "      <td>3</td>\n",
              "      <td>150</td>\n",
              "      <td>195</td>\n",
              "      <td>0</td>\n",
              "      <td>0</td>\n",
              "      <td>122</td>\n",
              "      <td>0</td>\n",
              "      <td>0.0</td>\n",
              "      <td>1</td>\n",
              "      <td>0</td>\n",
              "    </tr>\n",
              "    <tr>\n",
              "      <th>5</th>\n",
              "      <td>39</td>\n",
              "      <td>1</td>\n",
              "      <td>3</td>\n",
              "      <td>120</td>\n",
              "      <td>339</td>\n",
              "      <td>0</td>\n",
              "      <td>0</td>\n",
              "      <td>170</td>\n",
              "      <td>0</td>\n",
              "      <td>0.0</td>\n",
              "      <td>1</td>\n",
              "      <td>0</td>\n",
              "    </tr>\n",
              "    <tr>\n",
              "      <th>6</th>\n",
              "      <td>45</td>\n",
              "      <td>0</td>\n",
              "      <td>2</td>\n",
              "      <td>130</td>\n",
              "      <td>237</td>\n",
              "      <td>0</td>\n",
              "      <td>0</td>\n",
              "      <td>170</td>\n",
              "      <td>0</td>\n",
              "      <td>0.0</td>\n",
              "      <td>1</td>\n",
              "      <td>0</td>\n",
              "    </tr>\n",
              "    <tr>\n",
              "      <th>7</th>\n",
              "      <td>54</td>\n",
              "      <td>1</td>\n",
              "      <td>2</td>\n",
              "      <td>110</td>\n",
              "      <td>208</td>\n",
              "      <td>0</td>\n",
              "      <td>0</td>\n",
              "      <td>142</td>\n",
              "      <td>0</td>\n",
              "      <td>0.0</td>\n",
              "      <td>1</td>\n",
              "      <td>0</td>\n",
              "    </tr>\n",
              "    <tr>\n",
              "      <th>8</th>\n",
              "      <td>37</td>\n",
              "      <td>1</td>\n",
              "      <td>4</td>\n",
              "      <td>140</td>\n",
              "      <td>207</td>\n",
              "      <td>0</td>\n",
              "      <td>0</td>\n",
              "      <td>130</td>\n",
              "      <td>1</td>\n",
              "      <td>1.5</td>\n",
              "      <td>2</td>\n",
              "      <td>1</td>\n",
              "    </tr>\n",
              "    <tr>\n",
              "      <th>9</th>\n",
              "      <td>48</td>\n",
              "      <td>0</td>\n",
              "      <td>2</td>\n",
              "      <td>120</td>\n",
              "      <td>284</td>\n",
              "      <td>0</td>\n",
              "      <td>0</td>\n",
              "      <td>120</td>\n",
              "      <td>0</td>\n",
              "      <td>0.0</td>\n",
              "      <td>1</td>\n",
              "      <td>0</td>\n",
              "    </tr>\n",
              "    <tr>\n",
              "      <th>10</th>\n",
              "      <td>37</td>\n",
              "      <td>0</td>\n",
              "      <td>3</td>\n",
              "      <td>130</td>\n",
              "      <td>211</td>\n",
              "      <td>0</td>\n",
              "      <td>0</td>\n",
              "      <td>142</td>\n",
              "      <td>0</td>\n",
              "      <td>0.0</td>\n",
              "      <td>1</td>\n",
              "      <td>0</td>\n",
              "    </tr>\n",
              "    <tr>\n",
              "      <th>11</th>\n",
              "      <td>58</td>\n",
              "      <td>1</td>\n",
              "      <td>2</td>\n",
              "      <td>136</td>\n",
              "      <td>164</td>\n",
              "      <td>0</td>\n",
              "      <td>1</td>\n",
              "      <td>99</td>\n",
              "      <td>1</td>\n",
              "      <td>2.0</td>\n",
              "      <td>2</td>\n",
              "      <td>1</td>\n",
              "    </tr>\n",
              "    <tr>\n",
              "      <th>12</th>\n",
              "      <td>39</td>\n",
              "      <td>1</td>\n",
              "      <td>2</td>\n",
              "      <td>120</td>\n",
              "      <td>204</td>\n",
              "      <td>0</td>\n",
              "      <td>0</td>\n",
              "      <td>145</td>\n",
              "      <td>0</td>\n",
              "      <td>0.0</td>\n",
              "      <td>1</td>\n",
              "      <td>0</td>\n",
              "    </tr>\n",
              "    <tr>\n",
              "      <th>13</th>\n",
              "      <td>49</td>\n",
              "      <td>1</td>\n",
              "      <td>4</td>\n",
              "      <td>140</td>\n",
              "      <td>234</td>\n",
              "      <td>0</td>\n",
              "      <td>0</td>\n",
              "      <td>140</td>\n",
              "      <td>1</td>\n",
              "      <td>1.0</td>\n",
              "      <td>2</td>\n",
              "      <td>1</td>\n",
              "    </tr>\n",
              "    <tr>\n",
              "      <th>14</th>\n",
              "      <td>42</td>\n",
              "      <td>0</td>\n",
              "      <td>3</td>\n",
              "      <td>115</td>\n",
              "      <td>211</td>\n",
              "      <td>0</td>\n",
              "      <td>1</td>\n",
              "      <td>137</td>\n",
              "      <td>0</td>\n",
              "      <td>0.0</td>\n",
              "      <td>1</td>\n",
              "      <td>0</td>\n",
              "    </tr>\n",
              "    <tr>\n",
              "      <th>15</th>\n",
              "      <td>54</td>\n",
              "      <td>0</td>\n",
              "      <td>2</td>\n",
              "      <td>120</td>\n",
              "      <td>273</td>\n",
              "      <td>0</td>\n",
              "      <td>0</td>\n",
              "      <td>150</td>\n",
              "      <td>0</td>\n",
              "      <td>1.5</td>\n",
              "      <td>2</td>\n",
              "      <td>0</td>\n",
              "    </tr>\n",
              "    <tr>\n",
              "      <th>16</th>\n",
              "      <td>38</td>\n",
              "      <td>1</td>\n",
              "      <td>4</td>\n",
              "      <td>110</td>\n",
              "      <td>196</td>\n",
              "      <td>0</td>\n",
              "      <td>0</td>\n",
              "      <td>166</td>\n",
              "      <td>0</td>\n",
              "      <td>0.0</td>\n",
              "      <td>2</td>\n",
              "      <td>1</td>\n",
              "    </tr>\n",
              "    <tr>\n",
              "      <th>17</th>\n",
              "      <td>43</td>\n",
              "      <td>0</td>\n",
              "      <td>2</td>\n",
              "      <td>120</td>\n",
              "      <td>201</td>\n",
              "      <td>0</td>\n",
              "      <td>0</td>\n",
              "      <td>165</td>\n",
              "      <td>0</td>\n",
              "      <td>0.0</td>\n",
              "      <td>1</td>\n",
              "      <td>0</td>\n",
              "    </tr>\n",
              "    <tr>\n",
              "      <th>18</th>\n",
              "      <td>60</td>\n",
              "      <td>1</td>\n",
              "      <td>4</td>\n",
              "      <td>100</td>\n",
              "      <td>248</td>\n",
              "      <td>0</td>\n",
              "      <td>0</td>\n",
              "      <td>125</td>\n",
              "      <td>0</td>\n",
              "      <td>1.0</td>\n",
              "      <td>2</td>\n",
              "      <td>1</td>\n",
              "    </tr>\n",
              "    <tr>\n",
              "      <th>19</th>\n",
              "      <td>36</td>\n",
              "      <td>1</td>\n",
              "      <td>2</td>\n",
              "      <td>120</td>\n",
              "      <td>267</td>\n",
              "      <td>0</td>\n",
              "      <td>0</td>\n",
              "      <td>160</td>\n",
              "      <td>0</td>\n",
              "      <td>3.0</td>\n",
              "      <td>2</td>\n",
              "      <td>1</td>\n",
              "    </tr>\n",
              "  </tbody>\n",
              "</table>\n",
              "</div>"
            ],
            "text/plain": [
              "    age  sex  cp  trestbps  chol  ...  thalach  exang  oldpeak  slope  target\n",
              "0    40    1   2       140   289  ...      172      0      0.0      1       0\n",
              "1    49    0   3       160   180  ...      156      0      1.0      2       1\n",
              "2    37    1   2       130   283  ...       98      0      0.0      1       0\n",
              "3    48    0   4       138   214  ...      108      1      1.5      2       1\n",
              "4    54    1   3       150   195  ...      122      0      0.0      1       0\n",
              "5    39    1   3       120   339  ...      170      0      0.0      1       0\n",
              "6    45    0   2       130   237  ...      170      0      0.0      1       0\n",
              "7    54    1   2       110   208  ...      142      0      0.0      1       0\n",
              "8    37    1   4       140   207  ...      130      1      1.5      2       1\n",
              "9    48    0   2       120   284  ...      120      0      0.0      1       0\n",
              "10   37    0   3       130   211  ...      142      0      0.0      1       0\n",
              "11   58    1   2       136   164  ...       99      1      2.0      2       1\n",
              "12   39    1   2       120   204  ...      145      0      0.0      1       0\n",
              "13   49    1   4       140   234  ...      140      1      1.0      2       1\n",
              "14   42    0   3       115   211  ...      137      0      0.0      1       0\n",
              "15   54    0   2       120   273  ...      150      0      1.5      2       0\n",
              "16   38    1   4       110   196  ...      166      0      0.0      2       1\n",
              "17   43    0   2       120   201  ...      165      0      0.0      1       0\n",
              "18   60    1   4       100   248  ...      125      0      1.0      2       1\n",
              "19   36    1   2       120   267  ...      160      0      3.0      2       1\n",
              "\n",
              "[20 rows x 12 columns]"
            ]
          },
          "metadata": {},
          "execution_count": 5
        }
      ]
    },
    {
      "cell_type": "code",
      "metadata": {
        "colab": {
          "base_uri": "https://localhost:8080/"
        },
        "id": "pSkypDOqmkSO",
        "outputId": "681f82df-4ad5-4b7a-c483-f0aa57408c2c"
      },
      "source": [
        "print(\"(Rows, columns): \" + str(data.shape))\n",
        "data.columns"
      ],
      "execution_count": 6,
      "outputs": [
        {
          "output_type": "stream",
          "name": "stdout",
          "text": [
            "(Rows, columns): (1189, 12)\n"
          ]
        },
        {
          "output_type": "execute_result",
          "data": {
            "text/plain": [
              "Index(['age', 'sex', 'cp', 'trestbps', 'chol', 'fbs', 'restecg', 'thalach',\n",
              "       'exang', 'oldpeak', 'slope', 'target'],\n",
              "      dtype='object')"
            ]
          },
          "metadata": {},
          "execution_count": 6
        }
      ]
    },
    {
      "cell_type": "code",
      "metadata": {
        "colab": {
          "base_uri": "https://localhost:8080/"
        },
        "id": "P7VWVqOpm0am",
        "outputId": "251f594c-222e-4f90-96c1-c413f243e726"
      },
      "source": [
        "data.nunique(axis=0)      # returns the number of unique values for each variable."
      ],
      "execution_count": 7,
      "outputs": [
        {
          "output_type": "execute_result",
          "data": {
            "text/plain": [
              "age          50\n",
              "sex           2\n",
              "cp            4\n",
              "trestbps     67\n",
              "chol        222\n",
              "fbs           2\n",
              "restecg       3\n",
              "thalach     119\n",
              "exang         2\n",
              "oldpeak      53\n",
              "slope         3\n",
              "target        2\n",
              "dtype: int64"
            ]
          },
          "metadata": {},
          "execution_count": 7
        }
      ]
    },
    {
      "cell_type": "code",
      "metadata": {
        "colab": {
          "base_uri": "https://localhost:8080/",
          "height": 300
        },
        "id": "GJAivSdam33V",
        "outputId": "f4d388b5-dbe1-4610-aedf-349c41713208"
      },
      "source": [
        "data.describe()  #summarizes the count, mean, standard deviation, min, and max for numeric variables."
      ],
      "execution_count": 8,
      "outputs": [
        {
          "output_type": "execute_result",
          "data": {
            "text/html": [
              "<div>\n",
              "<style scoped>\n",
              "    .dataframe tbody tr th:only-of-type {\n",
              "        vertical-align: middle;\n",
              "    }\n",
              "\n",
              "    .dataframe tbody tr th {\n",
              "        vertical-align: top;\n",
              "    }\n",
              "\n",
              "    .dataframe thead th {\n",
              "        text-align: right;\n",
              "    }\n",
              "</style>\n",
              "<table border=\"1\" class=\"dataframe\">\n",
              "  <thead>\n",
              "    <tr style=\"text-align: right;\">\n",
              "      <th></th>\n",
              "      <th>age</th>\n",
              "      <th>sex</th>\n",
              "      <th>cp</th>\n",
              "      <th>trestbps</th>\n",
              "      <th>chol</th>\n",
              "      <th>fbs</th>\n",
              "      <th>restecg</th>\n",
              "      <th>thalach</th>\n",
              "      <th>exang</th>\n",
              "      <th>oldpeak</th>\n",
              "      <th>slope</th>\n",
              "      <th>target</th>\n",
              "    </tr>\n",
              "  </thead>\n",
              "  <tbody>\n",
              "    <tr>\n",
              "      <th>count</th>\n",
              "      <td>1189.000000</td>\n",
              "      <td>1189.000000</td>\n",
              "      <td>1189.000000</td>\n",
              "      <td>1189.000000</td>\n",
              "      <td>1189.000000</td>\n",
              "      <td>1189.000000</td>\n",
              "      <td>1189.000000</td>\n",
              "      <td>1189.000000</td>\n",
              "      <td>1189.000000</td>\n",
              "      <td>1189.000000</td>\n",
              "      <td>1189.000000</td>\n",
              "      <td>1189.000000</td>\n",
              "    </tr>\n",
              "    <tr>\n",
              "      <th>mean</th>\n",
              "      <td>53.708158</td>\n",
              "      <td>0.763667</td>\n",
              "      <td>3.232969</td>\n",
              "      <td>132.138772</td>\n",
              "      <td>210.376787</td>\n",
              "      <td>0.212784</td>\n",
              "      <td>0.698907</td>\n",
              "      <td>139.739277</td>\n",
              "      <td>0.387721</td>\n",
              "      <td>0.923549</td>\n",
              "      <td>1.625736</td>\n",
              "      <td>0.528175</td>\n",
              "    </tr>\n",
              "    <tr>\n",
              "      <th>std</th>\n",
              "      <td>9.352961</td>\n",
              "      <td>0.425008</td>\n",
              "      <td>0.935850</td>\n",
              "      <td>18.369251</td>\n",
              "      <td>101.462185</td>\n",
              "      <td>0.409448</td>\n",
              "      <td>0.870489</td>\n",
              "      <td>25.527386</td>\n",
              "      <td>0.487435</td>\n",
              "      <td>1.086464</td>\n",
              "      <td>0.608893</td>\n",
              "      <td>0.499416</td>\n",
              "    </tr>\n",
              "    <tr>\n",
              "      <th>min</th>\n",
              "      <td>28.000000</td>\n",
              "      <td>0.000000</td>\n",
              "      <td>1.000000</td>\n",
              "      <td>0.000000</td>\n",
              "      <td>0.000000</td>\n",
              "      <td>0.000000</td>\n",
              "      <td>0.000000</td>\n",
              "      <td>60.000000</td>\n",
              "      <td>0.000000</td>\n",
              "      <td>-2.600000</td>\n",
              "      <td>1.000000</td>\n",
              "      <td>0.000000</td>\n",
              "    </tr>\n",
              "    <tr>\n",
              "      <th>25%</th>\n",
              "      <td>47.000000</td>\n",
              "      <td>1.000000</td>\n",
              "      <td>3.000000</td>\n",
              "      <td>120.000000</td>\n",
              "      <td>188.000000</td>\n",
              "      <td>0.000000</td>\n",
              "      <td>0.000000</td>\n",
              "      <td>121.000000</td>\n",
              "      <td>0.000000</td>\n",
              "      <td>0.000000</td>\n",
              "      <td>1.000000</td>\n",
              "      <td>0.000000</td>\n",
              "    </tr>\n",
              "    <tr>\n",
              "      <th>50%</th>\n",
              "      <td>54.000000</td>\n",
              "      <td>1.000000</td>\n",
              "      <td>4.000000</td>\n",
              "      <td>130.000000</td>\n",
              "      <td>229.000000</td>\n",
              "      <td>0.000000</td>\n",
              "      <td>0.000000</td>\n",
              "      <td>141.000000</td>\n",
              "      <td>0.000000</td>\n",
              "      <td>0.600000</td>\n",
              "      <td>2.000000</td>\n",
              "      <td>1.000000</td>\n",
              "    </tr>\n",
              "    <tr>\n",
              "      <th>75%</th>\n",
              "      <td>60.000000</td>\n",
              "      <td>1.000000</td>\n",
              "      <td>4.000000</td>\n",
              "      <td>140.000000</td>\n",
              "      <td>270.000000</td>\n",
              "      <td>0.000000</td>\n",
              "      <td>2.000000</td>\n",
              "      <td>160.000000</td>\n",
              "      <td>1.000000</td>\n",
              "      <td>1.600000</td>\n",
              "      <td>2.000000</td>\n",
              "      <td>1.000000</td>\n",
              "    </tr>\n",
              "    <tr>\n",
              "      <th>max</th>\n",
              "      <td>77.000000</td>\n",
              "      <td>1.000000</td>\n",
              "      <td>4.000000</td>\n",
              "      <td>200.000000</td>\n",
              "      <td>603.000000</td>\n",
              "      <td>1.000000</td>\n",
              "      <td>2.000000</td>\n",
              "      <td>202.000000</td>\n",
              "      <td>1.000000</td>\n",
              "      <td>6.200000</td>\n",
              "      <td>3.000000</td>\n",
              "      <td>1.000000</td>\n",
              "    </tr>\n",
              "  </tbody>\n",
              "</table>\n",
              "</div>"
            ],
            "text/plain": [
              "               age          sex  ...        slope       target\n",
              "count  1189.000000  1189.000000  ...  1189.000000  1189.000000\n",
              "mean     53.708158     0.763667  ...     1.625736     0.528175\n",
              "std       9.352961     0.425008  ...     0.608893     0.499416\n",
              "min      28.000000     0.000000  ...     1.000000     0.000000\n",
              "25%      47.000000     1.000000  ...     1.000000     0.000000\n",
              "50%      54.000000     1.000000  ...     2.000000     1.000000\n",
              "75%      60.000000     1.000000  ...     2.000000     1.000000\n",
              "max      77.000000     1.000000  ...     3.000000     1.000000\n",
              "\n",
              "[8 rows x 12 columns]"
            ]
          },
          "metadata": {},
          "execution_count": 8
        }
      ]
    },
    {
      "cell_type": "code",
      "metadata": {
        "colab": {
          "base_uri": "https://localhost:8080/"
        },
        "id": "9PpGl51znA-d",
        "outputId": "a51b53eb-c256-44f8-8b0f-e0328d49cfca"
      },
      "source": [
        "print(data.isna().sum()) # Display the Missing Values"
      ],
      "execution_count": 9,
      "outputs": [
        {
          "output_type": "stream",
          "name": "stdout",
          "text": [
            "age         0\n",
            "sex         0\n",
            "cp          0\n",
            "trestbps    0\n",
            "chol        0\n",
            "fbs         0\n",
            "restecg     0\n",
            "thalach     0\n",
            "exang       0\n",
            "oldpeak     0\n",
            "slope       0\n",
            "target      0\n",
            "dtype: int64\n"
          ]
        }
      ]
    },
    {
      "cell_type": "markdown",
      "metadata": {
        "id": "zHs5LLWdnifG"
      },
      "source": [
        "Luckily we have no missing data to handle! so we can move further"
      ]
    },
    {
      "cell_type": "markdown",
      "metadata": {
        "id": "D340zDqmnra8"
      },
      "source": [
        "# **Correlations** "
      ]
    },
    {
      "cell_type": "code",
      "metadata": {
        "colab": {
          "base_uri": "https://localhost:8080/",
          "height": 332
        },
        "id": "lgdCUdYmngZR",
        "outputId": "c8c66e5e-ab5a-4219-a849-1b993376730a"
      },
      "source": [
        "sns.countplot(x=\"target\", data=data, palette=\"bwr\")\n",
        "\n",
        "countNoDisease = len(data[data.target == 0])\n",
        "countHaveDisease = len(data[data.target == 1])\n",
        "print(\"Percentage of Patients Haven't Heart Disease: {:.2f}%\".format((countNoDisease / (len(data.target))*100)))\n",
        "print(\"Percentage of Patients Have Heart Disease: {:.2f}%\".format((countHaveDisease / (len(data.target))*100)))\n",
        "plt.title(\"Number of Patient having heart Disease \")\n",
        "plt.xlabel(\"Target (0 = Haven't heart Disease & 1 = Have heart Disease)\")\n",
        "plt.show()"
      ],
      "execution_count": 10,
      "outputs": [
        {
          "output_type": "stream",
          "name": "stdout",
          "text": [
            "Percentage of Patients Haven't Heart Disease: 47.18%\n",
            "Percentage of Patients Have Heart Disease: 52.82%\n"
          ]
        },
        {
          "output_type": "display_data",
          "data": {
            "image/png": "[encoded data removed]",
            "text/plain": [
              "<Figure size 432x288 with 1 Axes>"
            ]
          },
          "metadata": {
            "needs_background": "light"
          }
        }
      ]
    },
    {
      "cell_type": "code",
      "metadata": {
        "colab": {
          "base_uri": "https://localhost:8080/",
          "height": 332
        },
        "id": "W_HHuGncH4SF",
        "outputId": "97b46b6f-9c53-474a-986f-8ef17cf387eb"
      },
      "source": [
        "sns.countplot(x='sex', data=data, palette=\"mako_r\")\n",
        "plt.xlabel(\"Sex (0 = female, 1= male)\")\n",
        "\n",
        "countFemale = len(data[data.sex == 0])\n",
        "countMale = len(data[data.sex == 1])\n",
        "print(\"Percentage of Female Patients: {:.2f}%\".format((countFemale / (len(data.sex))*100)))\n",
        "print(\"Percentage of Male Patients: {:.2f}%\".format((countMale / (len(data.sex))*100)))\n",
        "plt.title(\"Gender ratio of heart Disease\")\n",
        "\n",
        "plt.show()"
      ],
      "execution_count": 11,
      "outputs": [
        {
          "output_type": "stream",
          "name": "stdout",
          "text": [
            "Percentage of Female Patients: 23.63%\n",
            "Percentage of Male Patients: 76.37%\n"
          ]
        },
        {
          "output_type": "display_data",
          "data": {
            "image/png": "[encoded data removed]",
            "text/plain": [
              "<Figure size 432x288 with 1 Axes>"
            ]
          },
          "metadata": {
            "needs_background": "light"
          }
        }
      ]
    },
    {
      "cell_type": "code",
      "metadata": {
        "colab": {
          "base_uri": "https://localhost:8080/",
          "height": 404
        },
        "id": "pKCzf2ncleOM",
        "outputId": "bacac105-995e-4c04-aff3-9342575dc5a6"
      },
      "source": [
        "pd.crosstab(data.sex,data.target).plot(kind=\"bar\",figsize=(15,6),color=['#1CA53B','#AA1111' ])\n",
        "plt.title('Heart Disease Frequency for gender')\n",
        "plt.xlabel('Sex (0 = Female, 1 = Male)')\n",
        "plt.xticks(rotation=0)\n",
        "plt.legend([\"Haven't heart Disease\", \"Have heart Disease\"])\n",
        "plt.ylabel('Frequency')\n",
        "plt.show()"
      ],
      "execution_count": 12,
      "outputs": [
        {
          "output_type": "display_data",
          "data": {
            "image/png": "[encoded data removed]",
            "text/plain": [
              "<Figure size 1080x432 with 1 Axes>"
            ]
          },
          "metadata": {
            "needs_background": "light"
          }
        }
      ]
    },
    {
      "cell_type": "code",
      "metadata": {
        "colab": {
          "base_uri": "https://localhost:8080/",
          "height": 406
        },
        "id": "oyLS37nhk5t5",
        "outputId": "db5360c2-4488-4d62-f2a1-f66f517079c9"
      },
      "source": [
        "pd.crosstab(data.age,data.target).plot(kind=\"bar\",figsize=(20,6))\n",
        "plt.title('Heart Disease Frequency for Ages')\n",
        "plt.xlabel('Age')\n",
        "plt.ylabel('Frequencies of ages')\n",
        "plt.savefig('heartDiseaseAndAges.png')\n",
        "plt.show()"
      ],
      "execution_count": 13,
      "outputs": [
        {
          "output_type": "display_data",
          "data": {
            "image/png": "[encoded data removed]",
            "text/plain": [
              "<Figure size 1440x432 with 1 Axes>"
            ]
          },
          "metadata": {
            "needs_background": "light"
          }
        }
      ]
    },
    {
      "cell_type": "code",
      "metadata": {
        "colab": {
          "base_uri": "https://localhost:8080/",
          "height": 555
        },
        "id": "eyMIYIgtl8gu",
        "outputId": "cfc3780a-100b-45c9-e854-a57eff05a8c9"
      },
      "source": [
        "plt.figure(dpi=140)\n",
        "plt.scatter(x=data.age[data.target==1], y=data.thalach[(data.target==1)],s=2,c = \"red\")\n",
        "plt.scatter(x=data.age[data.target==0], y=data.thalach[(data.target==0)],s=2)\n",
        "plt.legend([\"Disease\", \"No Disease\"])\n",
        "plt.xlabel(\"Age\")\n",
        "plt.ylabel(\"Maximum Heart Rate\")\n",
        "plt.title(\"Maximum Heart Rate Vs Age\")\n",
        "plt.show()"
      ],
      "execution_count": 14,
      "outputs": [
        {
          "output_type": "display_data",
          "data": {
            "image/png": "[encoded data removed]",
            "text/plain": [
              "<Figure size 840x560 with 1 Axes>"
            ]
          },
          "metadata": {
            "needs_background": "light"
          }
        }
      ]
    },
    {
      "cell_type": "code",
      "metadata": {
        "id": "ub-qF3DyUnD6",
        "colab": {
          "base_uri": "https://localhost:8080/",
          "height": 445
        },
        "outputId": "4328bd6a-960a-42fb-96f7-5ba5afca03f6"
      },
      "source": [
        "sns.catplot(x=\"target\", y=\"oldpeak\", hue=\"slope\", kind=\"bar\", data=data);\n",
        "\n",
        "plt.title('ST depression (induced by exercise relative to rest)\\nVs\\n Heart Disease',size=15)\n",
        "plt.xlabel('Heart Disease',size=20)\n",
        "plt.ylabel('ST depression',size=20)"
      ],
      "execution_count": 15,
      "outputs": [
        {
          "output_type": "execute_result",
          "data": {
            "text/plain": [
              "Text(26.426458333333343, 0.5, 'ST depression')"
            ]
          },
          "metadata": {},
          "execution_count": 15
        },
        {
          "output_type": "display_data",
          "data": {
            "image/png": "[encoded data removed]",
            "text/plain": [
              "<Figure size 402.375x360 with 1 Axes>"
            ]
          },
          "metadata": {
            "needs_background": "light"
          }
        }
      ]
    },
    {
      "cell_type": "markdown",
      "metadata": {
        "id": "VfCLQNbTUnD9"
      },
      "source": [
        "ST segment depression occurs because when the ventricle is at rest and therefore repolarized. If the trace in the ST segment is abnormally low below the baseline, this can lead to this Heart Disease. This is supports the plot above because low ST Depression yields people at greater risk for heart disease. While a high ST depression is considered normal & healthy. The \"slope\" hue, refers to the peak exercise ST segment, with values: 1: upsloping , 2: flat , 3: downsloping). Both positive & negative heart disease patients exhibit equal distributions of the 3 slope categories."
      ]
    },
    {
      "cell_type": "code",
      "metadata": {
        "colab": {
          "base_uri": "https://localhost:8080/",
          "height": 404
        },
        "id": "q1WoZPbrq9XP",
        "outputId": "7b74155a-ef02-4d6d-dd40-ace25753680e"
      },
      "source": [
        "pd.crosstab(data.fbs,data.target).plot(kind=\"bar\",figsize=(15,6),color=['#FFC300','#581845' ])\n",
        "plt.title('Heart Disease Frequency According To FBS')\n",
        "plt.xlabel('FBS - (Fasting Blood Sugar > 120 mg/dl) (1 = true; 0 = false)')\n",
        "plt.xticks(rotation = 0)\n",
        "plt.legend([\"Haven't Disease\", \"Have Disease\"])\n",
        "plt.ylabel('Frequency of Disease or Not')\n",
        "plt.show()"
      ],
      "execution_count": 16,
      "outputs": [
        {
          "output_type": "display_data",
          "data": {
            "image/png": "[encoded data removed]",
            "text/plain": [
              "<Figure size 1080x432 with 1 Axes>"
            ]
          },
          "metadata": {
            "needs_background": "light"
          }
        }
      ]
    },
    {
      "cell_type": "code",
      "metadata": {
        "colab": {
          "base_uri": "https://localhost:8080/",
          "height": 404
        },
        "id": "aW5QQQpYq_iw",
        "outputId": "ac363c48-c04d-4710-b0d2-158d799b00fc"
      },
      "source": [
        "pd.crosstab(data.cp,data.target).plot(kind=\"bar\",figsize=(15,6),color=['#11A5AA','#AA1190' ])\n",
        "plt.title('Heart Disease Frequency According To Chest Pain Type')\n",
        "plt.xlabel('Chest Pain Type')\n",
        "plt.xticks(rotation = 0)\n",
        "plt.ylabel('Frequency of Disease or Not')\n",
        "plt.legend([\"Haven't Disease\", \"Have Disease\"])\n",
        "plt.show()"
      ],
      "execution_count": 17,
      "outputs": [
        {
          "output_type": "display_data",
          "data": {
            "image/png": "[encoded data removed]",
            "text/plain": [
              "<Figure size 1080x432 with 1 Axes>"
            ]
          },
          "metadata": {
            "needs_background": "light"
          }
        }
      ]
    },
    {
      "cell_type": "markdown",
      "metadata": {
        "id": "zsPZwRreYJwQ"
      },
      "source": [
        "**Correlation Matrix-**\n",
        "let's you see correlations between all variables. Within seconds, you can see whether something is positivly or negativly correlated with our predictor (target)"
      ]
    },
    {
      "cell_type": "code",
      "metadata": {
        "colab": {
          "base_uri": "https://localhost:8080/",
          "height": 613
        },
        "id": "qmJHGP0aXczd",
        "outputId": "a78ce226-90b5-4a6c-d898-fcd1431ddb05"
      },
      "source": [
        "# calculate correlation matrix\n",
        "\n",
        "corr = data.corr()\n",
        "plt.subplots(figsize=(15,10))\n",
        "sns.heatmap(corr, xticklabels=corr.columns, yticklabels=corr.columns, annot=True, cmap=sns.diverging_palette(220, 20, as_cmap=True))\n",
        "sns.heatmap(corr, xticklabels=corr.columns,\n",
        "            yticklabels=corr.columns, \n",
        "            annot=True,\n",
        "            cmap=sns.diverging_palette(220, 20, as_cmap=True))"
      ],
      "execution_count": 18,
      "outputs": [
        {
          "output_type": "execute_result",
          "data": {
            "text/plain": [
              "<matplotlib.axes._subplots.AxesSubplot at 0x7f7ca3c0ed50>"
            ]
          },
          "metadata": {},
          "execution_count": 18
        },
        {
          "output_type": "display_data",
          "data": {
            "image/png": "[encoded data removed]",
            "text/plain": [
              "<Figure size 1080x720 with 3 Axes>"
            ]
          },
          "metadata": {
            "needs_background": "light"
          }
        }
      ]
    },
    {
      "cell_type": "markdown",
      "metadata": {
        "id": "6JvS0PnOYkxf"
      },
      "source": [
        "We can see there is a positive correlation between slope & target (our predictor). This makes sense since, The greater amount of slope of the peak exercise ST segment results in a greater chance of having heart disease. Slope is a ordinal feature with 3 values: Value 1: upsloping , Value 2: flat , Value 3: downsloping. \n",
        "\n",
        "\n"
      ]
    },
    {
      "cell_type": "markdown",
      "metadata": {
        "id": "5O4blJeOrNje"
      },
      "source": [
        "# **Filtering data by positive & negative Heart Disease patient**"
      ]
    },
    {
      "cell_type": "markdown",
      "metadata": {
        "id": "OEWRmJ9xrabP"
      },
      "source": [
        "**Filtering data by positive Heart Disease patient(Data Spliting)**  "
      ]
    },
    {
      "cell_type": "code",
      "metadata": {
        "colab": {
          "base_uri": "https://localhost:8080/",
          "height": 300
        },
        "id": "3XB2qLs3rDg4",
        "outputId": "b6af029b-1795-45d9-8d09-41125120e327"
      },
      "source": [
        "pos_data = data[data['target']==1]\n",
        "pos_data.describe()"
      ],
      "execution_count": 19,
      "outputs": [
        {
          "output_type": "execute_result",
          "data": {
            "text/html": [
              "<div>\n",
              "<style scoped>\n",
              "    .dataframe tbody tr th:only-of-type {\n",
              "        vertical-align: middle;\n",
              "    }\n",
              "\n",
              "    .dataframe tbody tr th {\n",
              "        vertical-align: top;\n",
              "    }\n",
              "\n",
              "    .dataframe thead th {\n",
              "        text-align: right;\n",
              "    }\n",
              "</style>\n",
              "<table border=\"1\" class=\"dataframe\">\n",
              "  <thead>\n",
              "    <tr style=\"text-align: right;\">\n",
              "      <th></th>\n",
              "      <th>age</th>\n",
              "      <th>sex</th>\n",
              "      <th>cp</th>\n",
              "      <th>trestbps</th>\n",
              "      <th>chol</th>\n",
              "      <th>fbs</th>\n",
              "      <th>restecg</th>\n",
              "      <th>thalach</th>\n",
              "      <th>exang</th>\n",
              "      <th>oldpeak</th>\n",
              "      <th>slope</th>\n",
              "      <th>target</th>\n",
              "    </tr>\n",
              "  </thead>\n",
              "  <tbody>\n",
              "    <tr>\n",
              "      <th>count</th>\n",
              "      <td>628.000000</td>\n",
              "      <td>628.000000</td>\n",
              "      <td>628.000000</td>\n",
              "      <td>628.000000</td>\n",
              "      <td>628.000000</td>\n",
              "      <td>628.000000</td>\n",
              "      <td>628.000000</td>\n",
              "      <td>628.000000</td>\n",
              "      <td>628.000000</td>\n",
              "      <td>628.000000</td>\n",
              "      <td>628.000000</td>\n",
              "      <td>628.0</td>\n",
              "    </tr>\n",
              "    <tr>\n",
              "      <th>mean</th>\n",
              "      <td>56.015924</td>\n",
              "      <td>0.888535</td>\n",
              "      <td>3.640127</td>\n",
              "      <td>134.234076</td>\n",
              "      <td>191.366242</td>\n",
              "      <td>0.296178</td>\n",
              "      <td>0.759554</td>\n",
              "      <td>129.773885</td>\n",
              "      <td>0.609873</td>\n",
              "      <td>1.333439</td>\n",
              "      <td>1.918790</td>\n",
              "      <td>1.0</td>\n",
              "    </tr>\n",
              "    <tr>\n",
              "      <th>std</th>\n",
              "      <td>8.598787</td>\n",
              "      <td>0.314958</td>\n",
              "      <td>0.754221</td>\n",
              "      <td>19.675947</td>\n",
              "      <td>119.829968</td>\n",
              "      <td>0.456935</td>\n",
              "      <td>0.868272</td>\n",
              "      <td>23.737261</td>\n",
              "      <td>0.488167</td>\n",
              "      <td>1.183093</td>\n",
              "      <td>0.512769</td>\n",
              "      <td>0.0</td>\n",
              "    </tr>\n",
              "    <tr>\n",
              "      <th>min</th>\n",
              "      <td>31.000000</td>\n",
              "      <td>0.000000</td>\n",
              "      <td>1.000000</td>\n",
              "      <td>0.000000</td>\n",
              "      <td>0.000000</td>\n",
              "      <td>0.000000</td>\n",
              "      <td>0.000000</td>\n",
              "      <td>60.000000</td>\n",
              "      <td>0.000000</td>\n",
              "      <td>-2.600000</td>\n",
              "      <td>1.000000</td>\n",
              "      <td>1.0</td>\n",
              "    </tr>\n",
              "    <tr>\n",
              "      <th>25%</th>\n",
              "      <td>51.000000</td>\n",
              "      <td>1.000000</td>\n",
              "      <td>4.000000</td>\n",
              "      <td>120.000000</td>\n",
              "      <td>125.250000</td>\n",
              "      <td>0.000000</td>\n",
              "      <td>0.000000</td>\n",
              "      <td>113.000000</td>\n",
              "      <td>0.000000</td>\n",
              "      <td>0.100000</td>\n",
              "      <td>2.000000</td>\n",
              "      <td>1.0</td>\n",
              "    </tr>\n",
              "    <tr>\n",
              "      <th>50%</th>\n",
              "      <td>57.000000</td>\n",
              "      <td>1.000000</td>\n",
              "      <td>4.000000</td>\n",
              "      <td>132.000000</td>\n",
              "      <td>227.000000</td>\n",
              "      <td>0.000000</td>\n",
              "      <td>0.000000</td>\n",
              "      <td>128.000000</td>\n",
              "      <td>1.000000</td>\n",
              "      <td>1.200000</td>\n",
              "      <td>2.000000</td>\n",
              "      <td>1.0</td>\n",
              "    </tr>\n",
              "    <tr>\n",
              "      <th>75%</th>\n",
              "      <td>62.000000</td>\n",
              "      <td>1.000000</td>\n",
              "      <td>4.000000</td>\n",
              "      <td>145.000000</td>\n",
              "      <td>274.000000</td>\n",
              "      <td>1.000000</td>\n",
              "      <td>2.000000</td>\n",
              "      <td>147.000000</td>\n",
              "      <td>1.000000</td>\n",
              "      <td>2.000000</td>\n",
              "      <td>2.000000</td>\n",
              "      <td>1.0</td>\n",
              "    </tr>\n",
              "    <tr>\n",
              "      <th>max</th>\n",
              "      <td>77.000000</td>\n",
              "      <td>1.000000</td>\n",
              "      <td>4.000000</td>\n",
              "      <td>200.000000</td>\n",
              "      <td>603.000000</td>\n",
              "      <td>1.000000</td>\n",
              "      <td>2.000000</td>\n",
              "      <td>195.000000</td>\n",
              "      <td>1.000000</td>\n",
              "      <td>6.200000</td>\n",
              "      <td>3.000000</td>\n",
              "      <td>1.0</td>\n",
              "    </tr>\n",
              "  </tbody>\n",
              "</table>\n",
              "</div>"
            ],
            "text/plain": [
              "              age         sex          cp  ...     oldpeak       slope  target\n",
              "count  628.000000  628.000000  628.000000  ...  628.000000  628.000000   628.0\n",
              "mean    56.015924    0.888535    3.640127  ...    1.333439    1.918790     1.0\n",
              "std      8.598787    0.314958    0.754221  ...    1.183093    0.512769     0.0\n",
              "min     31.000000    0.000000    1.000000  ...   -2.600000    1.000000     1.0\n",
              "25%     51.000000    1.000000    4.000000  ...    0.100000    2.000000     1.0\n",
              "50%     57.000000    1.000000    4.000000  ...    1.200000    2.000000     1.0\n",
              "75%     62.000000    1.000000    4.000000  ...    2.000000    2.000000     1.0\n",
              "max     77.000000    1.000000    4.000000  ...    6.200000    3.000000     1.0\n",
              "\n",
              "[8 rows x 12 columns]"
            ]
          },
          "metadata": {},
          "execution_count": 19
        }
      ]
    },
    {
      "cell_type": "markdown",
      "metadata": {
        "id": "2osvM6DErjHk"
      },
      "source": [
        "**Filtering data by negative Heart Disease patient**"
      ]
    },
    {
      "cell_type": "code",
      "metadata": {
        "colab": {
          "base_uri": "https://localhost:8080/",
          "height": 300
        },
        "id": "6brTszfyrxH0",
        "outputId": "2aa6fabe-1188-4b31-eb76-28fa6978d178"
      },
      "source": [
        "neg_data = data[data['target']==0]\n",
        "neg_data.describe()"
      ],
      "execution_count": 20,
      "outputs": [
        {
          "output_type": "execute_result",
          "data": {
            "text/html": [
              "<div>\n",
              "<style scoped>\n",
              "    .dataframe tbody tr th:only-of-type {\n",
              "        vertical-align: middle;\n",
              "    }\n",
              "\n",
              "    .dataframe tbody tr th {\n",
              "        vertical-align: top;\n",
              "    }\n",
              "\n",
              "    .dataframe thead th {\n",
              "        text-align: right;\n",
              "    }\n",
              "</style>\n",
              "<table border=\"1\" class=\"dataframe\">\n",
              "  <thead>\n",
              "    <tr style=\"text-align: right;\">\n",
              "      <th></th>\n",
              "      <th>age</th>\n",
              "      <th>sex</th>\n",
              "      <th>cp</th>\n",
              "      <th>trestbps</th>\n",
              "      <th>chol</th>\n",
              "      <th>fbs</th>\n",
              "      <th>restecg</th>\n",
              "      <th>thalach</th>\n",
              "      <th>exang</th>\n",
              "      <th>oldpeak</th>\n",
              "      <th>slope</th>\n",
              "      <th>target</th>\n",
              "    </tr>\n",
              "  </thead>\n",
              "  <tbody>\n",
              "    <tr>\n",
              "      <th>count</th>\n",
              "      <td>561.000000</td>\n",
              "      <td>561.000000</td>\n",
              "      <td>561.000000</td>\n",
              "      <td>561.000000</td>\n",
              "      <td>561.000000</td>\n",
              "      <td>561.000000</td>\n",
              "      <td>561.000000</td>\n",
              "      <td>561.000000</td>\n",
              "      <td>561.000000</td>\n",
              "      <td>561.000000</td>\n",
              "      <td>561.000000</td>\n",
              "      <td>561.0</td>\n",
              "    </tr>\n",
              "    <tr>\n",
              "      <th>mean</th>\n",
              "      <td>51.124777</td>\n",
              "      <td>0.623886</td>\n",
              "      <td>2.777184</td>\n",
              "      <td>129.793226</td>\n",
              "      <td>231.657754</td>\n",
              "      <td>0.119430</td>\n",
              "      <td>0.631016</td>\n",
              "      <td>150.894831</td>\n",
              "      <td>0.139037</td>\n",
              "      <td>0.464706</td>\n",
              "      <td>1.297683</td>\n",
              "      <td>0.0</td>\n",
              "    </tr>\n",
              "    <tr>\n",
              "      <th>std</th>\n",
              "      <td>9.493914</td>\n",
              "      <td>0.484842</td>\n",
              "      <td>0.909423</td>\n",
              "      <td>16.490474</td>\n",
              "      <td>70.021658</td>\n",
              "      <td>0.324583</td>\n",
              "      <td>0.868723</td>\n",
              "      <td>22.704971</td>\n",
              "      <td>0.346294</td>\n",
              "      <td>0.733243</td>\n",
              "      <td>0.536668</td>\n",
              "      <td>0.0</td>\n",
              "    </tr>\n",
              "    <tr>\n",
              "      <th>min</th>\n",
              "      <td>28.000000</td>\n",
              "      <td>0.000000</td>\n",
              "      <td>1.000000</td>\n",
              "      <td>80.000000</td>\n",
              "      <td>0.000000</td>\n",
              "      <td>0.000000</td>\n",
              "      <td>0.000000</td>\n",
              "      <td>69.000000</td>\n",
              "      <td>0.000000</td>\n",
              "      <td>-1.100000</td>\n",
              "      <td>1.000000</td>\n",
              "      <td>0.0</td>\n",
              "    </tr>\n",
              "    <tr>\n",
              "      <th>25%</th>\n",
              "      <td>44.000000</td>\n",
              "      <td>0.000000</td>\n",
              "      <td>2.000000</td>\n",
              "      <td>120.000000</td>\n",
              "      <td>201.000000</td>\n",
              "      <td>0.000000</td>\n",
              "      <td>0.000000</td>\n",
              "      <td>137.000000</td>\n",
              "      <td>0.000000</td>\n",
              "      <td>0.000000</td>\n",
              "      <td>1.000000</td>\n",
              "      <td>0.0</td>\n",
              "    </tr>\n",
              "    <tr>\n",
              "      <th>50%</th>\n",
              "      <td>51.000000</td>\n",
              "      <td>1.000000</td>\n",
              "      <td>3.000000</td>\n",
              "      <td>130.000000</td>\n",
              "      <td>232.000000</td>\n",
              "      <td>0.000000</td>\n",
              "      <td>0.000000</td>\n",
              "      <td>154.000000</td>\n",
              "      <td>0.000000</td>\n",
              "      <td>0.000000</td>\n",
              "      <td>1.000000</td>\n",
              "      <td>0.0</td>\n",
              "    </tr>\n",
              "    <tr>\n",
              "      <th>75%</th>\n",
              "      <td>57.000000</td>\n",
              "      <td>1.000000</td>\n",
              "      <td>4.000000</td>\n",
              "      <td>140.000000</td>\n",
              "      <td>268.000000</td>\n",
              "      <td>0.000000</td>\n",
              "      <td>2.000000</td>\n",
              "      <td>169.000000</td>\n",
              "      <td>0.000000</td>\n",
              "      <td>0.800000</td>\n",
              "      <td>2.000000</td>\n",
              "      <td>0.0</td>\n",
              "    </tr>\n",
              "    <tr>\n",
              "      <th>max</th>\n",
              "      <td>76.000000</td>\n",
              "      <td>1.000000</td>\n",
              "      <td>4.000000</td>\n",
              "      <td>190.000000</td>\n",
              "      <td>564.000000</td>\n",
              "      <td>1.000000</td>\n",
              "      <td>2.000000</td>\n",
              "      <td>202.000000</td>\n",
              "      <td>1.000000</td>\n",
              "      <td>4.200000</td>\n",
              "      <td>3.000000</td>\n",
              "      <td>0.0</td>\n",
              "    </tr>\n",
              "  </tbody>\n",
              "</table>\n",
              "</div>"
            ],
            "text/plain": [
              "              age         sex          cp  ...     oldpeak       slope  target\n",
              "count  561.000000  561.000000  561.000000  ...  561.000000  561.000000   561.0\n",
              "mean    51.124777    0.623886    2.777184  ...    0.464706    1.297683     0.0\n",
              "std      9.493914    0.484842    0.909423  ...    0.733243    0.536668     0.0\n",
              "min     28.000000    0.000000    1.000000  ...   -1.100000    1.000000     0.0\n",
              "25%     44.000000    0.000000    2.000000  ...    0.000000    1.000000     0.0\n",
              "50%     51.000000    1.000000    3.000000  ...    0.000000    1.000000     0.0\n",
              "75%     57.000000    1.000000    4.000000  ...    0.800000    2.000000     0.0\n",
              "max     76.000000    1.000000    4.000000  ...    4.200000    3.000000     0.0\n",
              "\n",
              "[8 rows x 12 columns]"
            ]
          },
          "metadata": {},
          "execution_count": 20
        }
      ]
    },
    {
      "cell_type": "markdown",
      "metadata": {
        "id": "ZjiL3jO-s-YF"
      },
      "source": [
        "# **TRAINING AND TESTING**"
      ]
    },
    {
      "cell_type": "code",
      "metadata": {
        "id": "0WPSWxZwtEMC"
      },
      "source": [
        "X = data.iloc[:, :-1].values\n",
        "y = data.iloc[:, -1].values"
      ],
      "execution_count": 21,
      "outputs": []
    },
    {
      "cell_type": "code",
      "metadata": {
        "id": "qpf6rWXetM1k"
      },
      "source": [
        "from sklearn.model_selection import train_test_split\n",
        "x_train, x_test, y_train, y_test = train_test_split(X,y,test_size = 0.2, random_state = 1)"
      ],
      "execution_count": 22,
      "outputs": []
    },
    {
      "cell_type": "code",
      "metadata": {
        "id": "bIiO_k49tO6s"
      },
      "source": [
        "from sklearn.preprocessing import StandardScaler\n",
        "sc = StandardScaler()\n",
        "x_train = sc.fit_transform(x_train)\n",
        "x_test = sc.transform(x_test)"
      ],
      "execution_count": 23,
      "outputs": []
    },
    {
      "cell_type": "markdown",
      "metadata": {
        "id": "QeNrYqaQSCrV"
      },
      "source": [
        "**Modeling**"
      ]
    },
    {
      "cell_type": "markdown",
      "metadata": {
        "id": "CpmoqSv9St4B"
      },
      "source": [
        "Model 1: Logistic Regression"
      ]
    },
    {
      "cell_type": "code",
      "metadata": {
        "colab": {
          "base_uri": "https://localhost:8080/",
          "height": 395
        },
        "id": "Yf4TSmMAveqV",
        "outputId": "b2956612-6af9-4e05-ac3d-f30c92cc28db"
      },
      "source": [
        "from sklearn.metrics import classification_report \n",
        "from sklearn.linear_model import LogisticRegression\n",
        "from sklearn.metrics import confusion_matrix\n",
        "\n",
        "model1 = LogisticRegression(random_state=1) # get instance of model\n",
        "model1.fit(x_train, y_train) # Train/Fit model\n",
        "\n",
        "y_head_model1 = model1.predict(x_test)\n",
        "cm_model1 = confusion_matrix(y_test,y_head_model1)\n",
        "plt.figure(figsize=(3,3))\n",
        "sns.heatmap(cm_model1,annot=True,cmap=\"Blues\",fmt=\"d\",cbar=False, annot_kws={\"size\": 24})\n",
        "\n",
        "y_pred1 = model1.predict(x_test) # get y predictions\n",
        "print(classification_report(y_test, y_pred1)) # output accuracy\n",
        "\n",
        "\n",
        "accuracies = {}\n",
        "acc1 = model1.score(x_test,y_test)*100\n",
        "accuracies['Logistic Regression'] = acc1\n",
        "print(\"Logistic Regression Accuracy Score : {:.2f}%\".format(acc1))\n",
        "\n"
      ],
      "execution_count": 24,
      "outputs": [
        {
          "output_type": "stream",
          "name": "stdout",
          "text": [
            "              precision    recall  f1-score   support\n",
            "\n",
            "           0       0.80      0.83      0.82       102\n",
            "           1       0.87      0.85      0.86       136\n",
            "\n",
            "    accuracy                           0.84       238\n",
            "   macro avg       0.84      0.84      0.84       238\n",
            "weighted avg       0.84      0.84      0.84       238\n",
            "\n",
            "Logistic Regression Accuracy Score : 84.03%\n"
          ]
        },
        {
          "output_type": "display_data",
          "data": {
            "image/png": "[encoded data removed]",
            "text/plain": [
              "<Figure size 216x216 with 1 Axes>"
            ]
          },
          "metadata": {
            "needs_background": "light"
          }
        }
      ]
    },
    {
      "cell_type": "markdown",
      "metadata": {
        "id": "DYO1wCjTcMWX"
      },
      "source": [
        "Model 2: Naives Bayes Classifier"
      ]
    },
    {
      "cell_type": "code",
      "metadata": {
        "colab": {
          "base_uri": "https://localhost:8080/",
          "height": 395
        },
        "id": "OWaVv1iccrYi",
        "outputId": "eec98379-4558-4587-b93e-3410c05e27f5"
      },
      "source": [
        "from sklearn.metrics import classification_report \n",
        "from sklearn.naive_bayes import GaussianNB\n",
        "from sklearn.metrics import confusion_matrix\n",
        "\n",
        "model2 = GaussianNB() # get instance of model\n",
        "model2.fit(x_train, y_train) # Train/Fit model \n",
        "\n",
        "y_head_model2 = model2.predict(x_test)\n",
        "cm_model2 = confusion_matrix(y_test,y_head_model2)\n",
        "\n",
        "\n",
        "plt.figure(figsize=(3,3))\n",
        "sns.heatmap(cm_model2,annot=True,cmap=\"Blues\",fmt=\"d\",cbar=False, annot_kws={\"size\": 24})\n",
        "\n",
        "y_pred2 = model2.predict(x_test) # get y predictions\n",
        "print(classification_report(y_test, y_pred2)) # output accuracy\n",
        "\n",
        "\n",
        "accuracies = {}\n",
        "acc2 = model2.score(x_test,y_test)*100\n",
        "accuracies['Naives Bayes Classifier'] = acc2\n",
        "print(\"Naives Bayes Classifier Accuracy Score : {:.2f}%\".format(acc2))\n"
      ],
      "execution_count": 25,
      "outputs": [
        {
          "output_type": "stream",
          "name": "stdout",
          "text": [
            "              precision    recall  f1-score   support\n",
            "\n",
            "           0       0.82      0.85      0.84       102\n",
            "           1       0.89      0.86      0.87       136\n",
            "\n",
            "    accuracy                           0.86       238\n",
            "   macro avg       0.85      0.86      0.85       238\n",
            "weighted avg       0.86      0.86      0.86       238\n",
            "\n",
            "Naives Bayes Classifier Accuracy Score : 85.71%\n"
          ]
        },
        {
          "output_type": "display_data",
          "data": {
            "image/png": "[encoded data removed]",
            "text/plain": [
              "<Figure size 216x216 with 1 Axes>"
            ]
          },
          "metadata": {
            "needs_background": "light"
          }
        }
      ]
    },
    {
      "cell_type": "markdown",
      "metadata": {
        "id": "D29DP27kdJ8m"
      },
      "source": [
        "Model 3: K-NN (K-Nearest Neighbors)"
      ]
    },
    {
      "cell_type": "code",
      "metadata": {
        "colab": {
          "base_uri": "https://localhost:8080/",
          "height": 395
        },
        "id": "Y-cj-Ixwd5-Y",
        "outputId": "b9d83a82-a968-4a3d-80c8-793ed790becb"
      },
      "source": [
        "from sklearn.metrics import classification_report \n",
        "from sklearn.neighbors import KNeighborsClassifier\n",
        "from sklearn.metrics import confusion_matrix\n",
        "\n",
        "model3 = KNeighborsClassifier() # get instance of model\n",
        "model3.fit(x_train, y_train) # Train/Fit model \n",
        "\n",
        "y_head_model3 = model3.predict(x_test)\n",
        "cm_model3 = confusion_matrix(y_test,y_head_model3)\n",
        "\n",
        "plt.figure(figsize=(3,3))\n",
        "sns.heatmap(cm_model3,annot=True,cmap=\"Blues\",fmt=\"d\",cbar=False, annot_kws={\"size\": 24})\n",
        "\n",
        "y_pred3 = model3.predict(x_test) # get y predictions\n",
        "print(classification_report(y_test, y_pred3)) # output accuracy\n",
        "\n",
        "accuracies = {}\n",
        "acc3 = model3.score(x_test,y_test)*100\n",
        "accuracies['K-Nearest Neighbors'] = acc3\n",
        "print(\"K-Nearest Neighbors Accuracy Score : {:.2f}%\".format(acc3))"
      ],
      "execution_count": 26,
      "outputs": [
        {
          "output_type": "stream",
          "name": "stdout",
          "text": [
            "              precision    recall  f1-score   support\n",
            "\n",
            "           0       0.82      0.82      0.82       102\n",
            "           1       0.87      0.87      0.87       136\n",
            "\n",
            "    accuracy                           0.85       238\n",
            "   macro avg       0.85      0.85      0.85       238\n",
            "weighted avg       0.85      0.85      0.85       238\n",
            "\n",
            "K-Nearest Neighbors Accuracy Score : 84.87%\n"
          ]
        },
        {
          "output_type": "display_data",
          "data": {
            "image/png": "[encoded data removed]",
            "text/plain": [
              "<Figure size 216x216 with 1 Axes>"
            ]
          },
          "metadata": {
            "needs_background": "light"
          }
        }
      ]
    },
    {
      "cell_type": "markdown",
      "metadata": {
        "id": "H95L1_-GgN2j"
      },
      "source": [
        "Model 4: Decision Trees"
      ]
    },
    {
      "cell_type": "code",
      "metadata": {
        "colab": {
          "base_uri": "https://localhost:8080/",
          "height": 395
        },
        "id": "s4xqJ2NVgZ_t",
        "outputId": "f95c8f46-0c26-41c4-9f02-c2d16f50b511"
      },
      "source": [
        "from sklearn.metrics import classification_report \n",
        "from sklearn.tree import DecisionTreeClassifier\n",
        "from sklearn.metrics import confusion_matrix\n",
        "\n",
        "model4 = DecisionTreeClassifier(random_state=1) # get instance of model\n",
        "model4.fit(x_train, y_train) # Train/Fit model \n",
        "\n",
        "y_head_model4 = model4.predict(x_test)\n",
        "cm_model4 = confusion_matrix(y_test,y_head_model4)\n",
        "\n",
        "plt.figure(figsize=(3,3))\n",
        "sns.heatmap(cm_model4,annot=True,cmap=\"Blues\",fmt=\"d\",cbar=False, annot_kws={\"size\": 24})\n",
        "\n",
        "y_pred4 = model4.predict(x_test) # get y predictions\n",
        "print(classification_report(y_test, y_pred4)) # output accuracy\n",
        "\n",
        "accuracies = {}\n",
        "acc4 = model4.score(x_test,y_test)*100\n",
        "accuracies['Decision Trees'] = acc4\n",
        "print(\"Decision Trees Accuracy Score : {:.2f}%\".format(acc4))"
      ],
      "execution_count": 27,
      "outputs": [
        {
          "output_type": "stream",
          "name": "stdout",
          "text": [
            "              precision    recall  f1-score   support\n",
            "\n",
            "           0       0.84      0.91      0.87       102\n",
            "           1       0.93      0.87      0.90       136\n",
            "\n",
            "    accuracy                           0.89       238\n",
            "   macro avg       0.88      0.89      0.89       238\n",
            "weighted avg       0.89      0.89      0.89       238\n",
            "\n",
            "Decision Trees Accuracy Score : 88.66%\n"
          ]
        },
        {
          "output_type": "display_data",
          "data": {
            "image/png": "[encoded data removed]",
            "text/plain": [
              "<Figure size 216x216 with 1 Axes>"
            ]
          },
          "metadata": {
            "needs_background": "light"
          }
        }
      ]
    },
    {
      "cell_type": "markdown",
      "metadata": {
        "id": "vJag979hgdkB"
      },
      "source": [
        "Model 5: Random Forest"
      ]
    },
    {
      "cell_type": "code",
      "metadata": {
        "colab": {
          "base_uri": "https://localhost:8080/",
          "height": 395
        },
        "id": "gxxOFo1Tgmtq",
        "outputId": "7cbf3b1d-f2c3-4253-d812-fd04b871fb55"
      },
      "source": [
        "from sklearn.metrics import classification_report \n",
        "from sklearn.ensemble import RandomForestClassifier\n",
        "from sklearn.metrics import confusion_matrix\n",
        "\n",
        "model5 = RandomForestClassifier(random_state=1)# get instance of model\n",
        "model5.fit(x_train, y_train) # Train/Fit model \n",
        "\n",
        "y_head_model5 = model5.predict(x_test)\n",
        "cm_model5 = confusion_matrix(y_test,y_head_model5)\n",
        "\n",
        "plt.figure(figsize=(3,3))\n",
        "sns.heatmap(cm_model5,annot=True,cmap=\"Blues\",fmt=\"d\",cbar=False, annot_kws={\"size\": 24})\n",
        "\n",
        "y_pred5 = model5.predict(x_test) # get y predictions\n",
        "print(classification_report(y_test, y_pred5)) # output accuracy\n",
        "\n",
        "accuracies = {}\n",
        "acc5 = model5.score(x_test,y_test)*100\n",
        "accuracies['Random Forest'] = acc5\n",
        "print(\"Random Forest Accuracy Score : {:.2f}%\".format(acc5))\n"
      ],
      "execution_count": 28,
      "outputs": [
        {
          "output_type": "stream",
          "name": "stdout",
          "text": [
            "              precision    recall  f1-score   support\n",
            "\n",
            "           0       0.93      0.92      0.93       102\n",
            "           1       0.94      0.95      0.95       136\n",
            "\n",
            "    accuracy                           0.94       238\n",
            "   macro avg       0.94      0.94      0.94       238\n",
            "weighted avg       0.94      0.94      0.94       238\n",
            "\n",
            "Random Forest Accuracy Score : 93.70%\n"
          ]
        },
        {
          "output_type": "display_data",
          "data": {
            "image/png": "[encoded data removed]",
            "text/plain": [
              "<Figure size 216x216 with 1 Axes>"
            ]
          },
          "metadata": {
            "needs_background": "light"
          }
        }
      ]
    },
    {
      "cell_type": "markdown",
      "metadata": {
        "id": "hO2cQxwdgob5"
      },
      "source": [
        "Model 6: Support Vector Machine"
      ]
    },
    {
      "cell_type": "code",
      "metadata": {
        "colab": {
          "base_uri": "https://localhost:8080/",
          "height": 395
        },
        "id": "1XgZ9jzIg6bF",
        "outputId": "e2b1dbdf-2c4b-4e3f-b924-9799c35bc34b"
      },
      "source": [
        "from sklearn.metrics import classification_report \n",
        "from sklearn.svm import SVC\n",
        "from sklearn.metrics import confusion_matrix\n",
        "\n",
        "model6 = SVC(kernel ='rbf', random_state = 0) # get instance of model\n",
        "model6.fit(x_train, y_train) # Train/Fit model \n",
        "\n",
        "y_head_model6 = model6.predict(x_test)\n",
        "cm_model6 = confusion_matrix(y_test,y_head_model6)\n",
        "\n",
        "plt.figure(figsize=(3,3))\n",
        "sns.heatmap(cm_model6,annot=True,cmap=\"Blues\",fmt=\"d\",cbar=False, annot_kws={\"size\": 24})\n",
        "\n",
        "y_pred6 = model6.predict(x_test) # get y predictions\n",
        "print(classification_report(y_test, y_pred6)) # output accuracy\n",
        "\n",
        "accuracies = {}\n",
        "acc6 = model6.score(x_test,y_test)*100\n",
        "accuracies['Support Vector Machine'] = acc6\n",
        "print(\"Support Vector Machine Accuracy Score : {:.2f}%\".format(acc6))"
      ],
      "execution_count": 29,
      "outputs": [
        {
          "output_type": "stream",
          "name": "stdout",
          "text": [
            "              precision    recall  f1-score   support\n",
            "\n",
            "           0       0.84      0.84      0.84       102\n",
            "           1       0.88      0.88      0.88       136\n",
            "\n",
            "    accuracy                           0.87       238\n",
            "   macro avg       0.86      0.86      0.86       238\n",
            "weighted avg       0.87      0.87      0.87       238\n",
            "\n",
            "Support Vector Machine Accuracy Score : 86.55%\n"
          ]
        },
        {
          "output_type": "display_data",
          "data": {
            "image/png": "[encoded data removed]",
            "text/plain": [
              "<Figure size 216x216 with 1 Axes>"
            ]
          },
          "metadata": {
            "needs_background": "light"
          }
        }
      ]
    },
    {
      "cell_type": "markdown",
      "metadata": {
        "id": "VQ3588_jhDG_"
      },
      "source": [
        "Model 7: XG Boost"
      ]
    },
    {
      "cell_type": "code",
      "metadata": {
        "colab": {
          "base_uri": "https://localhost:8080/",
          "height": 395
        },
        "id": "MQFaWxcShLSg",
        "outputId": "d8b8c9ef-dd3b-4aab-f2e6-5887ea5f3e04"
      },
      "source": [
        "from xgboost import XGBClassifier\n",
        "from sklearn.metrics import confusion_matrix\n",
        "\n",
        "model7 = XGBClassifier(random_state=1)\n",
        "model7.fit(x_train, y_train)\n",
        "y_pred7 = model7.predict(x_test)\n",
        "print(classification_report(y_test, y_pred7))\n",
        "\n",
        "y_head_model7 = model7.predict(x_test)\n",
        "cm_model7 = confusion_matrix(y_test,y_head_model7)\n",
        "\n",
        "plt.figure(figsize=(3,3))\n",
        "sns.heatmap(cm_model7,annot=True,cmap=\"Blues\",fmt=\"d\",cbar=False, annot_kws={\"size\": 24})\n",
        "\n",
        "accuracies = {}\n",
        "acc7 = model7.score(x_test,y_test)*100\n",
        "accuracies['XGB Classifier'] = acc7\n",
        "print(\"XGB Classifier Accuracy Score : {:.2f}%\".format(acc7))"
      ],
      "execution_count": 30,
      "outputs": [
        {
          "output_type": "stream",
          "name": "stdout",
          "text": [
            "              precision    recall  f1-score   support\n",
            "\n",
            "           0       0.90      0.89      0.90       102\n",
            "           1       0.92      0.93      0.92       136\n",
            "\n",
            "    accuracy                           0.91       238\n",
            "   macro avg       0.91      0.91      0.91       238\n",
            "weighted avg       0.91      0.91      0.91       238\n",
            "\n",
            "XGB Classifier Accuracy Score : 91.18%\n"
          ]
        },
        {
          "output_type": "display_data",
          "data": {
            "image/png": "[encoded data removed]",
            "text/plain": [
              "<Figure size 216x216 with 1 Axes>"
            ]
          },
          "metadata": {
            "needs_background": "light"
          }
        }
      ]
    },
    {
      "cell_type": "markdown",
      "metadata": {
        "id": "PlECr9yehPhI"
      },
      "source": [
        "Model 8: Stochastic Gradient Descent"
      ]
    },
    {
      "cell_type": "code",
      "metadata": {
        "colab": {
          "base_uri": "https://localhost:8080/",
          "height": 395
        },
        "id": "5634WHO4hVRA",
        "outputId": "e3e1f438-a9d4-4521-cb30-61b6f32be2e9"
      },
      "source": [
        "from sklearn.metrics import classification_report \n",
        "from sklearn.linear_model import SGDClassifier\n",
        "from sklearn.metrics import confusion_matrix\n",
        "\n",
        "model8 = SGDClassifier(random_state=1)\n",
        "model8.fit(x_train, y_train)\n",
        "y_pred8 = model8.predict(x_test)\n",
        "print(classification_report(y_test, y_pred8))\n",
        "\n",
        "y_head_model8 = model8.predict(x_test)\n",
        "cm_model8 = confusion_matrix(y_test,y_head_model8)\n",
        "\n",
        "plt.figure(figsize=(3,3))\n",
        "sns.heatmap(cm_model8,annot=True,cmap=\"Blues\",fmt=\"d\",cbar=False, annot_kws={\"size\": 24})\n",
        "\n",
        "accuracies = {}\n",
        "acc8 = model8.score(x_test,y_test)*100\n",
        "accuracies['SGD Classifier'] = acc8\n",
        "print(\"SGD Classifier Accuracy Score : {:.2f}%\".format(acc8))\n"
      ],
      "execution_count": 31,
      "outputs": [
        {
          "output_type": "stream",
          "name": "stdout",
          "text": [
            "              precision    recall  f1-score   support\n",
            "\n",
            "           0       0.80      0.80      0.80       102\n",
            "           1       0.85      0.85      0.85       136\n",
            "\n",
            "    accuracy                           0.83       238\n",
            "   macro avg       0.83      0.83      0.83       238\n",
            "weighted avg       0.83      0.83      0.83       238\n",
            "\n",
            "SGD Classifier Accuracy Score : 83.19%\n"
          ]
        },
        {
          "output_type": "display_data",
          "data": {
            "image/png": "[encoded data removed]",
            "text/plain": [
              "<Figure size 216x216 with 1 Axes>"
            ]
          },
          "metadata": {
            "needs_background": "light"
          }
        }
      ]
    },
    {
      "cell_type": "markdown",
      "metadata": {
        "id": "ZSo3Ar6ZZC60"
      },
      "source": [
        ""
      ]
    },
    {
      "cell_type": "code",
      "metadata": {
        "colab": {
          "base_uri": "https://localhost:8080/",
          "height": 780
        },
        "id": "VOcF7SspVD1y",
        "outputId": "5c9e5f42-487f-4591-f04f-7cde05fe86c1"
      },
      "source": [
        "scores = [acc1,acc2,acc3,acc4,acc5,acc6,acc7,acc8]\n",
        "algorithms = [\"Logistic Regression\",\"Naive Bayes\",\"K-Nearest Neighbors\",\"Decision Tree\",\"Random Forest\",\"Support Vector Machine\",\"XG Boost\",\"Stochastic Gradient Descent\"]    \n",
        "\n",
        "for i in range(len(algorithms)):\n",
        "    print(\"The accuracy score achieved using \"+algorithms[i]+\" is: \"+str(scores[i])+\" %\")\n",
        "\n",
        "sns.set(rc={'figure.figsize':(17,9)})\n",
        "plt.xlabel(\"Algorithms\")\n",
        "plt.ylabel(\"Accuracy score\")\n",
        "\n",
        "sns.barplot(algorithms,scores)\n",
        "\n"
      ],
      "execution_count": 32,
      "outputs": [
        {
          "output_type": "stream",
          "name": "stdout",
          "text": [
            "The accuracy score achieved using Logistic Regression is: 84.03361344537815 %\n",
            "The accuracy score achieved using Naive Bayes is: 85.71428571428571 %\n",
            "The accuracy score achieved using K-Nearest Neighbors is: 84.87394957983193 %\n",
            "The accuracy score achieved using Decision Tree is: 88.65546218487394 %\n",
            "The accuracy score achieved using Random Forest is: 93.69747899159664 %\n",
            "The accuracy score achieved using Support Vector Machine is: 86.5546218487395 %\n",
            "The accuracy score achieved using XG Boost is: 91.17647058823529 %\n",
            "The accuracy score achieved using Stochastic Gradient Descent is: 83.19327731092437 %\n"
          ]
        },
        {
          "output_type": "stream",
          "name": "stderr",
          "text": [
            "/usr/local/lib/python3.7/dist-packages/seaborn/_decorators.py:43: FutureWarning: Pass the following variables as keyword args: x, y. From version 0.12, the only valid positional argument will be `data`, and passing other arguments without an explicit keyword will result in an error or misinterpretation.\n",
            "  FutureWarning\n"
          ]
        },
        {
          "output_type": "execute_result",
          "data": {
            "text/plain": [
              "<matplotlib.axes._subplots.AxesSubplot at 0x7f7c9b94ea90>"
            ]
          },
          "metadata": {},
          "execution_count": 32
        },
        {
          "output_type": "display_data",
          "data": {
            "image/png": "[encoded data removed]",
            "text/plain": [
              "<Figure size 1224x648 with 1 Axes>"
            ]
          },
          "metadata": {}
        }
      ]
    },
    {
      "cell_type": "markdown",
      "metadata": {
        "id": "tkV8GNdyrqfg"
      },
      "source": [
        "# **Feature Importance**"
      ]
    },
    {
      "cell_type": "code",
      "metadata": {
        "colab": {
          "base_uri": "https://localhost:8080/"
        },
        "id": "PZO5tsl0rnVu",
        "outputId": "28108ea0-7b4f-4db5-f904-b280fe08a2d7"
      },
      "source": [
        "# get importance\n",
        "importance = model5.feature_importances_\n",
        "\n",
        "# summarize feature importance\n",
        "for i,v in enumerate(importance):\n",
        "    print('Feature: %0d, Score: %.5f' % (i,v))"
      ],
      "execution_count": 33,
      "outputs": [
        {
          "output_type": "stream",
          "name": "stdout",
          "text": [
            "Feature: 0, Score: 0.08738\n",
            "Feature: 1, Score: 0.04198\n",
            "Feature: 2, Score: 0.13330\n",
            "Feature: 3, Score: 0.08133\n",
            "Feature: 4, Score: 0.12109\n",
            "Feature: 5, Score: 0.01790\n",
            "Feature: 6, Score: 0.03079\n",
            "Feature: 7, Score: 0.11930\n",
            "Feature: 8, Score: 0.07181\n",
            "Feature: 9, Score: 0.11194\n",
            "Feature: 10, Score: 0.18318\n"
          ]
        }
      ]
    },
    {
      "cell_type": "code",
      "metadata": {
        "colab": {
          "base_uri": "https://localhost:8080/",
          "height": 558
        },
        "id": "Yelh3q89sf7X",
        "outputId": "a453bc5a-6fa4-4b0b-e201-dd9499d854f5"
      },
      "source": [
        "index= data.columns[:-1]\n",
        "importance = pd.Series(model5.feature_importances_, index=index)\n",
        "importance.nlargest(13).plot(kind='barh', colormap='winter')"
      ],
      "execution_count": 34,
      "outputs": [
        {
          "output_type": "execute_result",
          "data": {
            "text/plain": [
              "<matplotlib.axes._subplots.AxesSubplot at 0x7f7c9b8f7e10>"
            ]
          },
          "metadata": {},
          "execution_count": 34
        },
        {
          "output_type": "display_data",
          "data": {
            "image/png": "[encoded data removed]",
            "text/plain": [
              "<Figure size 1224x648 with 1 Axes>"
            ]
          },
          "metadata": {}
        }
      ]
    },
    {
      "cell_type": "markdown",
      "metadata": {
        "id": "MyaLSvakZ73j"
      },
      "source": [
        "# Predictions"
      ]
    },
    {
      "cell_type": "code",
      "metadata": {
        "colab": {
          "base_uri": "https://localhost:8080/"
        },
        "id": "xox11U2AyYUt",
        "outputId": "9ca91549-c58e-4546-b395-fd704cddf517"
      },
      "source": [
        "print(model5.predict(sc.transform([[25,1,2,110,230,1,1,140,1,2.2,2,]])))"
      ],
      "execution_count": 35,
      "outputs": [
        {
          "output_type": "stream",
          "name": "stdout",
          "text": [
            "[1]\n"
          ]
        }
      ]
    },
    {
      "cell_type": "code",
      "metadata": {
        "colab": {
          "base_uri": "https://localhost:8080/"
        },
        "id": "CbzCfX7lym6c",
        "outputId": "5784179e-9cb6-45c1-86b7-22b8968a4f74"
      },
      "source": [
        "y_pred = model5.predict(x_test)\n",
        "print(np.concatenate((y_pred.reshape(len(y_pred),1), y_test.reshape(len(y_test),1)),1))"
      ],
      "execution_count": 36,
      "outputs": [
        {
          "output_type": "stream",
          "name": "stdout",
          "text": [
            "[[1 1]\n",
            " [0 0]\n",
            " [1 1]\n",
            " [1 1]\n",
            " [1 1]\n",
            " [1 1]\n",
            " [1 1]\n",
            " [1 1]\n",
            " [1 0]\n",
            " [0 0]\n",
            " [0 0]\n",
            " [0 1]\n",
            " [1 1]\n",
            " [1 1]\n",
            " [0 0]\n",
            " [1 1]\n",
            " [0 0]\n",
            " [0 0]\n",
            " [1 1]\n",
            " [0 0]\n",
            " [1 1]\n",
            " [1 1]\n",
            " [0 0]\n",
            " [1 1]\n",
            " [0 0]\n",
            " [0 0]\n",
            " [0 0]\n",
            " [1 1]\n",
            " [0 0]\n",
            " [1 1]\n",
            " [1 1]\n",
            " [1 1]\n",
            " [0 0]\n",
            " [0 0]\n",
            " [0 0]\n",
            " [1 1]\n",
            " [1 1]\n",
            " [1 1]\n",
            " [1 0]\n",
            " [1 1]\n",
            " [0 0]\n",
            " [0 0]\n",
            " [0 0]\n",
            " [1 1]\n",
            " [1 1]\n",
            " [1 1]\n",
            " [0 0]\n",
            " [1 0]\n",
            " [1 1]\n",
            " [0 0]\n",
            " [0 0]\n",
            " [0 0]\n",
            " [0 0]\n",
            " [1 1]\n",
            " [1 1]\n",
            " [1 1]\n",
            " [1 1]\n",
            " [0 0]\n",
            " [0 0]\n",
            " [0 0]\n",
            " [0 0]\n",
            " [1 1]\n",
            " [1 1]\n",
            " [1 1]\n",
            " [1 1]\n",
            " [0 1]\n",
            " [0 0]\n",
            " [1 1]\n",
            " [1 1]\n",
            " [1 1]\n",
            " [1 1]\n",
            " [0 0]\n",
            " [1 1]\n",
            " [1 1]\n",
            " [0 0]\n",
            " [0 0]\n",
            " [1 1]\n",
            " [0 0]\n",
            " [1 1]\n",
            " [0 0]\n",
            " [1 1]\n",
            " [0 0]\n",
            " [1 1]\n",
            " [1 1]\n",
            " [1 0]\n",
            " [0 1]\n",
            " [1 1]\n",
            " [1 1]\n",
            " [1 1]\n",
            " [0 0]\n",
            " [1 0]\n",
            " [1 1]\n",
            " [1 1]\n",
            " [0 0]\n",
            " [0 0]\n",
            " [0 0]\n",
            " [1 1]\n",
            " [1 1]\n",
            " [0 0]\n",
            " [1 1]\n",
            " [1 1]\n",
            " [0 0]\n",
            " [0 0]\n",
            " [1 1]\n",
            " [0 0]\n",
            " [0 0]\n",
            " [1 1]\n",
            " [1 1]\n",
            " [1 1]\n",
            " [1 1]\n",
            " [1 1]\n",
            " [0 0]\n",
            " [1 1]\n",
            " [0 0]\n",
            " [0 0]\n",
            " [1 1]\n",
            " [1 1]\n",
            " [1 1]\n",
            " [1 1]\n",
            " [1 1]\n",
            " [1 1]\n",
            " [0 0]\n",
            " [0 0]\n",
            " [0 0]\n",
            " [1 1]\n",
            " [0 1]\n",
            " [0 1]\n",
            " [1 1]\n",
            " [1 1]\n",
            " [1 1]\n",
            " [0 0]\n",
            " [0 0]\n",
            " [0 0]\n",
            " [1 1]\n",
            " [1 1]\n",
            " [0 0]\n",
            " [0 0]\n",
            " [0 0]\n",
            " [1 1]\n",
            " [0 0]\n",
            " [1 1]\n",
            " [0 0]\n",
            " [0 0]\n",
            " [1 1]\n",
            " [0 0]\n",
            " [1 1]\n",
            " [1 1]\n",
            " [1 1]\n",
            " [1 1]\n",
            " [1 1]\n",
            " [1 1]\n",
            " [1 1]\n",
            " [0 0]\n",
            " [1 1]\n",
            " [0 0]\n",
            " [1 1]\n",
            " [1 1]\n",
            " [1 1]\n",
            " [0 0]\n",
            " [1 0]\n",
            " [0 0]\n",
            " [0 0]\n",
            " [0 0]\n",
            " [1 1]\n",
            " [1 1]\n",
            " [0 0]\n",
            " [1 1]\n",
            " [1 1]\n",
            " [0 0]\n",
            " [0 0]\n",
            " [0 0]\n",
            " [0 0]\n",
            " [1 1]\n",
            " [0 0]\n",
            " [1 1]\n",
            " [1 1]\n",
            " [0 0]\n",
            " [1 1]\n",
            " [0 0]\n",
            " [1 1]\n",
            " [0 0]\n",
            " [1 1]\n",
            " [1 1]\n",
            " [1 1]\n",
            " [0 0]\n",
            " [0 0]\n",
            " [1 1]\n",
            " [1 1]\n",
            " [0 1]\n",
            " [1 1]\n",
            " [1 1]\n",
            " [0 0]\n",
            " [0 1]\n",
            " [1 1]\n",
            " [1 1]\n",
            " [0 0]\n",
            " [0 0]\n",
            " [1 1]\n",
            " [1 1]\n",
            " [0 0]\n",
            " [0 0]\n",
            " [0 0]\n",
            " [1 1]\n",
            " [1 1]\n",
            " [0 0]\n",
            " [1 1]\n",
            " [1 1]\n",
            " [0 0]\n",
            " [1 1]\n",
            " [1 1]\n",
            " [1 0]\n",
            " [0 0]\n",
            " [1 1]\n",
            " [1 1]\n",
            " [0 0]\n",
            " [1 1]\n",
            " [1 1]\n",
            " [1 1]\n",
            " [1 1]\n",
            " [1 1]\n",
            " [0 0]\n",
            " [1 1]\n",
            " [0 0]\n",
            " [1 1]\n",
            " [0 0]\n",
            " [1 1]\n",
            " [1 1]\n",
            " [1 1]\n",
            " [0 0]\n",
            " [1 1]\n",
            " [0 0]\n",
            " [1 1]\n",
            " [0 0]\n",
            " [0 0]\n",
            " [1 1]\n",
            " [0 0]\n",
            " [1 0]\n",
            " [1 1]]\n"
          ]
        }
      ]
    },
    {
      "cell_type": "code",
      "metadata": {
        "colab": {
          "base_uri": "https://localhost:8080/"
        },
        "id": "nJj_-hVctMqQ",
        "outputId": "1ddd13db-77b4-4b22-fbb7-8f19e1c3b79a"
      },
      "source": [
        "print(\"\\033[1;34;240m ——— HEART DISEASE PREDICTION ———    \")\n",
        "print(\"\\033[1;31;240m Know your disease,save your life \")\n",
        "print(\"\\033[1;30;240m\\n\")\n",
        "Age = int(input(\"Please enter your Age:\\n➨ \"))\n",
        "Sex = int(input(\"\\nPlease Enter Your Sex\\n  0. Female\\n  1. Male \\n\\n➨ \"))\n",
        "Cp = int(input(\"\\nEnter Your Chest Pain Type:\\n  1. Typical angina\\n  2. Atypical angina\\n  3. Non-anginal pain\\n  4. Asymptomatic\\n\\n➨ \"))\n",
        "Trestbps = int(input(\"\\nEnter Your Resting systolic blood pressure(in mm Hg)\\n(Normal range <120 mm Hg)\\n\\n➨ \"))\n",
        "Chol = int(input(\"\\nEnter Your Serum cholesterol in mg/dl\\n(Normal Range <200 mg/dl)\\n\\n➨ \"))\n",
        "Fbs = int(input(\"\\nEnter Your Fasting blood sugar>120 mg:/dl\\n  0. No \\n  1. Yes\\n\\n➨ \"))\n",
        "Restecg = int(input(\"\\nEnter Your Resting electrocardiograph:\\n  0. Normal\\n  1. Having ST-T wave abnormality\\n  2. Left ventricular hypertrophy\\n\\n➨ \"))\n",
        "Thalach = int(input(\"\\nEnter Your Maximum heart rate achieved\\n(Normal range between 60-100 beats/minute)\\n\\n➨ \"))\n",
        "Exang = int(input(\"\\nEnter Your Exercise-induced angina:\\n  0. No\\n  1. Yes\\n\\n➨ \"))\n",
        "Oldpeak = float(input(\"\\nEnter Your ST depression\\n(Normal Range )\\n\\n➨ \"))\n",
        "Slope = int(input(\"\\nEnter Your slope of the peak exercise ST segment:\\n  1. Upsloping\\n  2. Fat\\n  3. Down sloping\\n\\n➨ \"))\n",
        "\n",
        "mod = int(input(\"\\nSelect Model\\n\\n  1. Logistic Regression\\n  2. Naive Bayes\\n  3.K-Nearest Neighbors\\n  4.Decision Tree\\n  5.Random Forest\\n  6.Support Vector Machine\\n  7.XG Boost\\n  8.Stochastic Gradient Descent\\n\\n➨ \"))\n",
        "\n",
        "mod2 = 0\n",
        "if mod == 1:\n",
        "   mod2 = model1\n",
        "elif mod == 2:\n",
        "   mod2 = model2\n",
        "elif mod == 3:\n",
        "   mod2 = model3\n",
        "elif mod == 4:\n",
        "   mod2 = model4\n",
        "elif mod == 5:\n",
        "   mod2 = model5\n",
        "elif mod == 6:\n",
        "   mod2 = model6\n",
        "elif mod == 7:\n",
        "   mod2 = model7\n",
        "else:\n",
        "   mod2 = model8\n",
        "\n",
        "fin = mod2.predict(sc.transform([[int(Age),int(Sex),int(Cp),int(Trestbps),float(Chol),int(Fbs),int(Restecg),float(Thalach),int(Exang),float(Oldpeak),int(Slope)]]))\n",
        "\n",
        "fin1 = 0\n",
        "if fin == 1:\n",
        "   print(\"\\033[1;31;47m\\nYou have Heart Disease  \\n\")\n",
        "else:\n",
        "   print(\"\\033[1;32;47m\\nYou have no heart disease\")\n",
        "\n"
      ],
      "execution_count": 37,
      "outputs": [
        {
          "output_type": "stream",
          "name": "stdout",
          "text": [
            "\u001b[1;34;240m ——— HEART DISEASE PREDICTION ———    \n",
            "\u001b[1;31;240m Know your disease,save your life \n",
            "\u001b[1;30;240m\n",
            "\n",
            "Please enter your Age:\n",
            "➨ 85\n",
            "\n",
            "Please Enter Your Sex\n",
            "  0. Female\n",
            "  1. Male \n",
            "\n",
            "➨ 1\n",
            "\n",
            "Enter Your Chest Pain Type:\n",
            "  1. Typical angina\n",
            "  2. Atypical angina\n",
            "  3. Non-anginal pain\n",
            "  4. Asymptomatic\n",
            "\n",
            "➨ 2\n",
            "\n",
            "Enter Your Resting systolic blood pressure(in mm Hg)\n",
            "(Normal range <120 mm Hg)\n",
            "\n",
            "➨ 150\n",
            "\n",
            "Enter Your Serum cholesterol in mg/dl\n",
            "(Normal Range <200 mg/dl)\n",
            "\n",
            "➨ 198\n",
            "\n",
            "Enter Your Fasting blood sugar>120 mg:/dl\n",
            "  0. No \n",
            "  1. Yes\n",
            "\n",
            "➨ 1\n",
            "\n",
            "Enter Your Resting electrocardiograph:\n",
            "  0. Normal\n",
            "  1. Having ST-T wave abnormality\n",
            "  2. Left ventricular hypertrophy\n",
            "\n",
            "➨ 1\n",
            "\n",
            "Enter Your Maximum heart rate achieved\n",
            "(Normal range between 60-100 beats/minute)\n",
            "\n",
            "➨ 150\n",
            "\n",
            "Enter Your Exercise-induced angina:\n",
            "  0. No\n",
            "  1. Yes\n",
            "\n",
            "➨ 0\n",
            "\n",
            "Enter Your ST depression\n",
            "(Normal Range )\n",
            "\n",
            "➨ 1.23\n",
            "\n",
            "Enter Your slope of the peak exercise ST segment:\n",
            "  1. Upsloping\n",
            "  2. Fat\n",
            "  3. Down sloping\n",
            "\n",
            "➨ 2\n",
            "\n",
            "Select Model\n",
            "\n",
            "  1. Logistic Regression\n",
            "  2. Naive Bayes\n",
            "  3.K-Nearest Neighbors\n",
            "  4.Decision Tree\n",
            "  5.Random Forest\n",
            "  6.Support Vector Machine\n",
            "  7.XG Boost\n",
            "  8.Stochastic Gradient Descent\n",
            "\n",
            "➨ 5\n",
            "\u001b[1;31;47m\n",
            "You have Heart Disease  \n",
            "\n"
          ]
        }
      ]
    }
  ]
}
